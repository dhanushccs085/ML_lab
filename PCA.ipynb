{
  "nbformat": 4,
  "nbformat_minor": 0,
  "metadata": {
    "colab": {
      "provenance": []
    },
    "kernelspec": {
      "name": "python3",
      "display_name": "Python 3"
    },
    "language_info": {
      "name": "python"
    }
  },
  "cells": [
    {
      "cell_type": "code",
      "execution_count": 3,
      "metadata": {
        "colab": {
          "base_uri": "https://localhost:8080/"
        },
        "id": "ylQOlQOXU_gE",
        "outputId": "82b020ec-fe25-4f7c-94ff-b1b2f39f89d5"
      },
      "outputs": [
        {
          "output_type": "stream",
          "name": "stdout",
          "text": [
            "Original shape: (5, 3)\n",
            "Transformed shape after PCA: (5, 1)\n",
            "First 5 rows of transformed data:\n",
            " [[-1.58242043]\n",
            " [ 1.17123178]\n",
            " [-0.00384156]\n",
            " [ 1.95726456]\n",
            " [-1.54223435]]\n",
            "\n",
            "Custom input after PCA transformation:\n",
            "[[-0.16137707]]\n"
          ]
        },
        {
          "output_type": "execute_result",
          "data": {
            "text/plain": [
              "array([[-1.58242043],\n",
              "       [ 1.17123178],\n",
              "       [-0.00384156],\n",
              "       [ 1.95726456],\n",
              "       [-1.54223435]])"
            ]
          },
          "metadata": {},
          "execution_count": 3
        }
      ],
      "source": [
        "import pandas as pd\n",
        "from sklearn.preprocessing import OneHotEncoder, StandardScaler\n",
        "from sklearn.compose import ColumnTransformer\n",
        "from sklearn.pipeline import Pipeline\n",
        "from sklearn.decomposition import PCA\n",
        "import numpy as np\n",
        "\n",
        "def pca_pipeline(\n",
        "    df,                      # Input DataFrame\n",
        "    numeric_features,        # List of numeric feature column names\n",
        "    categorical_features=[], # List of categorical feature column names (optional)\n",
        "    n_components=None,       # Number of principal components to keep (default None = all)\n",
        "    custom_input=None        # Optional custom input for transformation (as DataFrame)\n",
        "):\n",
        "    # Extract features\n",
        "    X = df.copy()\n",
        "\n",
        "    # Define preprocessing\n",
        "    preprocessor = ColumnTransformer(\n",
        "        transformers=[\n",
        "            ('num', StandardScaler(), numeric_features),\n",
        "            ('cat', OneHotEncoder(handle_unknown='ignore'), categorical_features)\n",
        "        ],\n",
        "        remainder='drop'  # drop any other columns\n",
        "    )\n",
        "\n",
        "    # Define pipeline with preprocessing + PCA\n",
        "    pipeline = Pipeline(steps=[\n",
        "        ('preprocess', preprocessor),\n",
        "        ('pca', PCA(n_components=n_components))\n",
        "    ])\n",
        "\n",
        "    # Fit PCA pipeline on data\n",
        "    pipeline.fit(X)\n",
        "\n",
        "    # Transform data to principal components\n",
        "    X_pca = pipeline.transform(X)\n",
        "\n",
        "    print(f\"Original shape: {X.shape}\")\n",
        "    print(f\"Transformed shape after PCA: {X_pca.shape}\")\n",
        "    print(\"First 5 rows of transformed data:\\n\", X_pca[:5])\n",
        "\n",
        "    # Optional: transform custom input if provided\n",
        "    if custom_input is not None:\n",
        "        custom_pca = pipeline.transform(custom_input)\n",
        "        print(\"\\nCustom input after PCA transformation:\")\n",
        "        print(custom_pca)\n",
        "\n",
        "    return X_pca\n",
        "\n",
        "# ------------------ Example usage ------------------\n",
        "\n",
        "# Sample dataset (numeric + categorical)\n",
        "df = pd.DataFrame({\n",
        "    'age': [25, 45, 35, 50, 23],\n",
        "    'income': [50000, 64000, 58000, 72000, 52000],\n",
        "    'gender': ['M', 'F', 'F', 'M', 'M']\n",
        "})\n",
        "\n",
        "custom_input = pd.DataFrame([{\n",
        "    'age': 30,\n",
        "    'income': 60000,\n",
        "    'gender': 'F'\n",
        "}])\n",
        "\n",
        "pca_pipeline(\n",
        "    df=df,\n",
        "    numeric_features=['age', 'income'],\n",
        "    categorical_features=['gender'],\n",
        "    n_components=1, #no of components\n",
        "    custom_input=custom_input\n",
        ")\n"
      ]
    },
    {
      "cell_type": "code",
      "source": [],
      "metadata": {
        "id": "dF_vnvNeVEeF"
      },
      "execution_count": null,
      "outputs": []
    }
  ]
}